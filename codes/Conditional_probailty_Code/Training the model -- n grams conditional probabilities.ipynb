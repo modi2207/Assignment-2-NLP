{
 "cells": [
  {
   "cell_type": "markdown",
   "id": "0993eafe",
   "metadata": {},
   "source": [
    "### Importing CSV"
   ]
  },
  {
   "cell_type": "code",
   "execution_count": 56,
   "id": "f0ae6597",
   "metadata": {},
   "outputs": [],
   "source": [
    "import csv"
   ]
  },
  {
   "cell_type": "code",
   "execution_count": 57,
   "id": "5c4cd878",
   "metadata": {},
   "outputs": [],
   "source": [
    "# Reading the sample sentences from the file with UTF-8 encoding\n",
    "corpus = []\n",
    "with open('training_data.txt', 'r', encoding='utf-8') as file:\n",
    "    for line in file:\n",
    "        corpus.append(line.strip().split(', '))  # Split by ', ' to separate words"
   ]
  },
  {
   "cell_type": "code",
   "execution_count": 58,
   "id": "64666a19",
   "metadata": {},
   "outputs": [],
   "source": [
    "# Flattening the list of lists\n",
    "corpus = [word for sentence in corpus for word in sentence]"
   ]
  },
  {
   "cell_type": "markdown",
   "id": "c65b108b",
   "metadata": {},
   "source": [
    "## N gram counts"
   ]
  },
  {
   "cell_type": "markdown",
   "id": "ec3de789",
   "metadata": {},
   "source": [
    "## Unigram Counts"
   ]
  },
  {
   "cell_type": "code",
   "execution_count": 59,
   "id": "ca0e72f6",
   "metadata": {},
   "outputs": [],
   "source": [
    "# Creating a dictionary to store word counts\n",
    "word_counts = {}"
   ]
  },
  {
   "cell_type": "code",
   "execution_count": 61,
   "id": "22277975",
   "metadata": {
    "scrolled": true
   },
   "outputs": [],
   "source": [
    "# Count the unigrams\n",
    "for word in corpus:\n",
    "    if word in word_counts:\n",
    "        word_counts[word] += 1\n",
    "    else:\n",
    "        word_counts[word] = 1"
   ]
  },
  {
   "cell_type": "code",
   "execution_count": 63,
   "id": "c76759f7",
   "metadata": {},
   "outputs": [],
   "source": [
    "# Sort the word counts in descending order\n",
    "sorted_word_counts = sorted(word_counts.items(), key=lambda x: x[1], reverse=True)"
   ]
  },
  {
   "cell_type": "code",
   "execution_count": 64,
   "id": "67c22357",
   "metadata": {},
   "outputs": [],
   "source": [
    "# Creating a CSV file to store the sorted counts with UTF-8-sig encoding\n",
    "with open('unigram_counts.csv', 'w', newline='', encoding='utf-8-sig') as csvfile:\n",
    "    csv_writer = csv.writer(csvfile)\n",
    "    \n",
    "    # Write the header row\n",
    "    csv_writer.writerow(['Unigram', 'Count'])\n",
    "    \n",
    "    # Write the sorted word counts\n",
    "    for word, count in sorted_word_counts:\n",
    "        csv_writer.writerow([word, count])"
   ]
  },
  {
   "cell_type": "markdown",
   "id": "b8fab372",
   "metadata": {},
   "source": [
    "## Bigram counts"
   ]
  },
  {
   "cell_type": "code",
   "execution_count": 66,
   "id": "fa2425b4",
   "metadata": {},
   "outputs": [],
   "source": [
    "# Create a dictionary to store bigram counts\n",
    "bigram_counts = {}\n",
    "\n",
    "# Calculate bigram counts\n",
    "for i in range(len(corpus) - 1):\n",
    "    bigram = (corpus[i], corpus[i + 1])\n",
    "    if bigram in bigram_counts:\n",
    "        bigram_counts[bigram] += 1\n",
    "    else:\n",
    "        bigram_counts[bigram] = 1\n",
    "\n",
    "# Sort the bigram counts in descending order\n",
    "sorted_bigram_counts = sorted(bigram_counts.items(), key=lambda x: x[1], reverse=True)\n",
    "\n",
    "# Create a CSV file to store the sorted bigram counts with UTF-8-sig encoding\n",
    "with open('bigram_counts.csv', 'w', newline='', encoding='utf-8-sig') as csvfile:\n",
    "    csv_writer = csv.writer(csvfile)\n",
    "    \n",
    "    # Write the header row\n",
    "    csv_writer.writerow(['Bigram', 'Count'])\n",
    "    \n",
    "    # Write the sorted bigram counts\n",
    "    for bigram, count in sorted_bigram_counts:\n",
    "        csv_writer.writerow([list(bigram), count])"
   ]
  },
  {
   "cell_type": "markdown",
   "id": "c56b4c07",
   "metadata": {},
   "source": [
    "## Trigram Counts"
   ]
  },
  {
   "cell_type": "code",
   "execution_count": 67,
   "id": "a3c7f807",
   "metadata": {},
   "outputs": [],
   "source": [
    "# Create a dictionary to store trigram counts\n",
    "trigram_counts = {}\n",
    "\n",
    "# Calculate trigram counts\n",
    "for i in range(len(corpus) - 2):\n",
    "    trigram = (corpus[i], corpus[i + 1], corpus[i + 2])\n",
    "    if trigram in trigram_counts:\n",
    "        trigram_counts[trigram] += 1\n",
    "    else:\n",
    "        trigram_counts[trigram] = 1\n",
    "\n",
    "# Sort the trigram counts in descending order\n",
    "sorted_trigram_counts = sorted(trigram_counts.items(), key=lambda x: x[1], reverse=True)\n",
    "\n",
    "# Create a CSV file to store the sorted trigram counts with UTF-8-sig encoding\n",
    "with open('trigram_counts.csv', 'w', newline='', encoding='utf-8-sig') as csvfile:\n",
    "    csv_writer = csv.writer(csvfile)\n",
    "    \n",
    "    # Write the header row\n",
    "    csv_writer.writerow(['Trigram', 'Count'])\n",
    "    \n",
    "    # Write the sorted trigram counts\n",
    "    for trigram, count in sorted_trigram_counts:\n",
    "        csv_writer.writerow([list(trigram), count])"
   ]
  },
  {
   "cell_type": "markdown",
   "id": "475b9b5e",
   "metadata": {},
   "source": [
    "## Trigram Counts"
   ]
  },
  {
   "cell_type": "code",
   "execution_count": 68,
   "id": "efdeccb0",
   "metadata": {},
   "outputs": [],
   "source": [
    "# Create a dictionary to store quadgram counts\n",
    "quadgram_counts = {}\n",
    "\n",
    "# Calculate quadgram counts\n",
    "for i in range(len(corpus) - 3):\n",
    "    quadgram = (corpus[i], corpus[i + 1], corpus[i + 2], corpus[i + 3])\n",
    "    if quadgram in quadgram_counts:\n",
    "        quadgram_counts[quadgram] += 1\n",
    "    else:\n",
    "        quadgram_counts[quadgram] = 1\n",
    "\n",
    "# Sort the quadgram counts in descending order\n",
    "sorted_quadgram_counts = sorted(quadgram_counts.items(), key=lambda x: x[1], reverse=True)\n",
    "\n",
    "# Create a CSV file to store the sorted quadgram counts with UTF-8-sig encoding\n",
    "with open('quadgram_counts.csv', 'w', newline='', encoding='utf-8-sig') as csvfile:\n",
    "    csv_writer = csv.writer(csvfile)\n",
    "    \n",
    "    # Write the header row\n",
    "    csv_writer.writerow(['Quadgram', 'Count'])\n",
    "    \n",
    "    # Write the sorted quadgram counts\n",
    "    for quadgram, count in sorted_quadgram_counts:\n",
    "        csv_writer.writerow([list(quadgram), count])"
   ]
  },
  {
   "cell_type": "markdown",
   "id": "465f43ff",
   "metadata": {},
   "source": [
    "## Probabilities"
   ]
  },
  {
   "cell_type": "code",
   "execution_count": 69,
   "id": "5b35b737",
   "metadata": {},
   "outputs": [
    {
     "name": "stdout",
     "output_type": "stream",
     "text": [
      "Total number of words in the corpus: 4295336\n"
     ]
    }
   ],
   "source": [
    "# Initialize a counter for total words\n",
    "total_words = 0\n",
    "\n",
    "# Count the total number of words\n",
    "for word in corpus:\n",
    "    total_words += 1\n",
    "\n",
    "print(f\"Total number of words in the corpus: {total_words}\")"
   ]
  },
  {
   "cell_type": "markdown",
   "id": "629a1f87",
   "metadata": {},
   "source": [
    "#### Unigram probabilities"
   ]
  },
  {
   "cell_type": "code",
   "execution_count": 70,
   "id": "23023b94",
   "metadata": {},
   "outputs": [],
   "source": [
    "import pandas as pd\n",
    "\n",
    "# Load the word counts DataFrame from word_counts_sorted.csv\n",
    "word_counts_df = pd.read_csv('unigram_counts.csv')\n",
    "\n",
    "# Calculate the total number of words in the corpus\n",
    "total_words = word_counts_df['Count'].sum()\n",
    "\n",
    "# Calculate unigram probabilities\n",
    "word_counts_df['Probability'] = word_counts_df['Count'] / total_words\n",
    "\n",
    "# Create a new DataFrame with selected columns\n",
    "unigram_probabilities_df = word_counts_df[['Unigram', 'Count', 'Probability']]\n",
    "\n",
    "# Create a new CSV file to store the unigram probabilities with UTF-8-sig encoding\n",
    "unigram_probabilities_df.to_csv('unigram_probabilities.csv', index=False, encoding='utf-8-sig')"
   ]
  },
  {
   "cell_type": "markdown",
   "id": "213c7470",
   "metadata": {},
   "source": [
    "#### Bigram probabilities"
   ]
  },
  {
   "cell_type": "code",
   "execution_count": 71,
   "id": "ed135602",
   "metadata": {},
   "outputs": [],
   "source": [
    "# Load the bigram count CSV file\n",
    "bigram_count_df = pd.read_csv('bigram_counts.csv')\n",
    "\n",
    "# Load the unigram count CSV file\n",
    "unigram_count_df = pd.read_csv('unigram_counts.csv')\n",
    "\n",
    "# Create a dictionary for unigram counts\n",
    "unigram_count_dict = dict(zip(unigram_count_df['Unigram'], unigram_count_df['Count']))\n",
    "\n",
    "# Function to calculate conditional probabilities\n",
    "def calculate_conditional_probability(row):\n",
    "    bigram = row['Bigram'].strip('[]').split(', ')\n",
    "\n",
    "    first_word = bigram[0].strip(\"''\")\n",
    "    \n",
    "  \n",
    "    \n",
    "    # Check if the first word exists in unigram_count_dict\n",
    "    if first_word in unigram_count_dict:\n",
    "        unigram_count = unigram_count_dict[first_word]\n",
    "        return row['Count'] / unigram_count\n",
    "    else:\n",
    "        return 0.0  # Handle cases where the first word is not found in unigram_count_dict\n",
    "\n",
    "# Calculate conditional probabilities\n",
    "bigram_count_df['Conditional Probability'] = bigram_count_df.apply(calculate_conditional_probability, axis=1)\n",
    "\n",
    "# Create a new DataFrame with selected columns\n",
    "conditional_probabilities_df = bigram_count_df[['Bigram', 'Count', 'Conditional Probability']]\n",
    "\n",
    "# Create a new CSV file to store the conditional probabilities with UTF-8-sig encoding\n",
    "conditional_probabilities_df.to_csv('bigram_conditional_probabilities.csv', index=False, encoding='utf-8-sig')"
   ]
  },
  {
   "cell_type": "markdown",
   "id": "e615d63e",
   "metadata": {},
   "source": [
    "#### Trigram probabilities"
   ]
  },
  {
   "cell_type": "code",
   "execution_count": 72,
   "id": "a4f49550",
   "metadata": {},
   "outputs": [],
   "source": [
    "# Load the bigram count CSV file\n",
    "bigram_count_df = pd.read_csv('bigram_counts.csv')\n",
    "\n",
    "\n",
    "# Load the trigram count CSV file\n",
    "trigram_count_df = pd.read_csv('trigram_counts.csv')\n",
    "\n",
    "\n",
    "# Create a dictionary for unigram counts from the bigram count DataFrame\n",
    "bigram_count_dict = dict(zip(bigram_count_df['Bigram'], bigram_count_df['Count']))\n",
    "\n",
    "\n",
    "# Function to calculate conditional probabilities for trigrams\n",
    "def calculate_conditional_probability(row):\n",
    "    trigram = row['Trigram'].strip('[]').split(', ')\n",
    "\n",
    "    req = \"[\"+ trigram[0]+ \", \"+trigram[1] + \"]\"\n",
    "\n",
    "    \n",
    "   \n",
    "    \n",
    "\n",
    "    # Check if the first word exists in unigram_count_dict\n",
    "    if req in bigram_count_dict:\n",
    "        bigram_count = bigram_count_dict[req]\n",
    "        return row['Count'] / bigram_count\n",
    "    else:\n",
    "        return 0.0  # Handle cases where the first word is not found in unigram_count_dict\n",
    "\n",
    "# Calculate conditional probabilities for trigrams\n",
    "trigram_count_df['Conditional Probability'] = trigram_count_df.apply(calculate_conditional_probability, axis=1)\n",
    "\n",
    "# Create a new DataFrame with selected columns\n",
    "conditional_probabilities_df = trigram_count_df[['Trigram', 'Count', 'Conditional Probability']]\n",
    "\n",
    "# Create a new CSV file to store the trigram conditional probabilities with UTF-8-sig encoding\n",
    "conditional_probabilities_df.to_csv('trigram_conditional_probabilities.csv', index=False, encoding='utf-8-sig')"
   ]
  },
  {
   "cell_type": "markdown",
   "id": "6f7f42c7",
   "metadata": {},
   "source": [
    "#### Quadgram probabilities"
   ]
  },
  {
   "cell_type": "code",
   "execution_count": 73,
   "id": "67305624",
   "metadata": {},
   "outputs": [],
   "source": [
    "# Load the quadgram count CSV file\n",
    "quadgram_count_df = pd.read_csv('quadgram_counts.csv')\n",
    "\n",
    "# Load the bigram count CSV file\n",
    "trigram_count_df = pd.read_csv('trigram_counts.csv')\n",
    "\n",
    "# Create a dictionary for trigram counts from the trigram count DataFrame\n",
    "trigram_count_dict = dict(zip(trigram_count_df['Trigram'], trigram_count_df['Count']))\n",
    "\n",
    "# Function to calculate conditional probabilities for quadgrams\n",
    "def calculate_conditional_probability(row):\n",
    "    quadgram = row['Quadgram'].strip('[]').split(', ')\n",
    "\n",
    "    req = \"[\" + quadgram[0] + \", \" + quadgram[1] + \", \" + quadgram[2] + \"]\"\n",
    "\n",
    "    # Check if the bigram exists in bigram_count_dict\n",
    "    if req in trigram_count_dict:\n",
    "        trigram_count = trigram_count_dict[req]\n",
    "        return row['Count'] / trigram_count\n",
    "    else:\n",
    "        return 0.0  # Handle cases where the bigram is not found in bigram_count_dict\n",
    "\n",
    "# Calculate conditional probabilities for quadgrams\n",
    "quadgram_count_df['Conditional Probability'] = quadgram_count_df.apply(calculate_conditional_probability, axis=1)\n",
    "\n",
    "# Create a new DataFrame with selected columns\n",
    "conditional_probabilities_df = quadgram_count_df[['Quadgram', 'Count', 'Conditional Probability']]\n",
    "\n",
    "# Create a new CSV file to store the quadgram conditional probabilities with UTF-8-sig encoding\n",
    "conditional_probabilities_df.to_csv('quadgram_conditional_probabilities.csv', index=False, encoding='utf-8-sig')"
   ]
  }
 ],
 "metadata": {
  "kernelspec": {
   "display_name": "Python 3 (ipykernel)",
   "language": "python",
   "name": "python3"
  },
  "language_info": {
   "codemirror_mode": {
    "name": "ipython",
    "version": 3
   },
   "file_extension": ".py",
   "mimetype": "text/x-python",
   "name": "python",
   "nbconvert_exporter": "python",
   "pygments_lexer": "ipython3",
   "version": "3.10.11"
  }
 },
 "nbformat": 4,
 "nbformat_minor": 5
}
