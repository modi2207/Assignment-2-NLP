{
 "cells": [
  {
   "cell_type": "code",
   "execution_count": 1,
   "id": "080da578",
   "metadata": {},
   "outputs": [
    {
     "name": "stdout",
     "output_type": "stream",
     "text": [
      "Total data points: 330901\n",
      "Training data points: 264721\n",
      "Testing data points: 66180\n"
     ]
    }
   ],
   "source": [
    "import random\n",
    "\n",
    "# Loading data from \"PROCESSED_CORPUS.txt\"\n",
    "with open(\"PROCESSED_CORPUS.txt\", \"r\", encoding=\"utf-8\") as file:\n",
    "    data = file.readlines()\n",
    "\n",
    "# Shufflng the data randomly\n",
    "random.shuffle(data)\n",
    "\n",
    "# Defining the percentage for testing data\n",
    "test_percentage = 0.20\n",
    "\n",
    "# Calculating the split index\n",
    "split_index = int(len(data) * test_percentage)\n",
    "\n",
    "# Split the data into training and testing sets\n",
    "testing_data = data[:split_index]\n",
    "training_data = data[split_index:]\n",
    "\n",
    "# saving the split datasets to separate files:\n",
    "with open(\"testing_data.txt\", \"w\", encoding=\"utf-8\") as test_file:\n",
    "    test_file.writelines(testing_data)\n",
    "\n",
    "with open(\"training_data.txt\", \"w\", encoding=\"utf-8\") as train_file:\n",
    "    train_file.writelines(training_data)\n",
    "\n",
    "# Optionally, we can print the sizes of the training and testing sets\n",
    "print(f\"Total data points: {len(data)}\")\n",
    "print(f\"Training data points: {len(training_data)}\")\n",
    "print(f\"Testing data points: {len(testing_data)}\")\n"
   ]
  }
 ],
 "metadata": {
  "kernelspec": {
   "display_name": "Python 3 (ipykernel)",
   "language": "python",
   "name": "python3"
  },
  "language_info": {
   "codemirror_mode": {
    "name": "ipython",
    "version": 3
   },
   "file_extension": ".py",
   "mimetype": "text/x-python",
   "name": "python",
   "nbconvert_exporter": "python",
   "pygments_lexer": "ipython3",
   "version": "3.10.11"
  }
 },
 "nbformat": 4,
 "nbformat_minor": 5
}
