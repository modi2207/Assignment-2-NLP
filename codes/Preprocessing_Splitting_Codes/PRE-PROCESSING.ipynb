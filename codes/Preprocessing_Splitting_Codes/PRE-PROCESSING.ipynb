{
 "cells": [
  {
   "cell_type": "markdown",
   "id": "d8c16cae",
   "metadata": {},
   "source": [
    "# Preprocessing:"
   ]
  },
  {
   "cell_type": "markdown",
   "id": "cfdbb1e2",
   "metadata": {},
   "source": [
    "### Importing necessary Libraries and modules"
   ]
  },
  {
   "cell_type": "code",
   "execution_count": 1,
   "id": "464a391f",
   "metadata": {},
   "outputs": [
    {
     "name": "stderr",
     "output_type": "stream",
     "text": [
      "[nltk_data] Downloading package punkt to\n",
      "[nltk_data]     C:\\Users\\karee\\AppData\\Roaming\\nltk_data...\n",
      "[nltk_data]   Package punkt is already up-to-date!\n"
     ]
    },
    {
     "data": {
      "text/plain": [
       "True"
      ]
     },
     "execution_count": 1,
     "metadata": {},
     "output_type": "execute_result"
    }
   ],
   "source": [
    "import pandas as pd\n",
    "import nltk\n",
    "from nltk.tokenize import sent_tokenize, RegexpTokenizer\n",
    "from typing import Iterator\n",
    "\n",
    "# Download NLTK data \n",
    "nltk.download('punkt')"
   ]
  },
  {
   "cell_type": "code",
   "execution_count": 4,
   "id": "d3dee5df",
   "metadata": {},
   "outputs": [],
   "source": [
    "# Loading the CSV file into a DataFrame\n",
    "df = pd.read_csv('reddit_data_filtered.csv')\n",
    "\n",
    "# Defining the function to replace tricky characters\n",
    "def replace_characters(text: str) -> str:\n",
    "    replacement_rules = {'“': '\"', '”': '\"', '’': \"'\", '--': ','}\n",
    "    for symbol, replacement in replacement_rules.items():\n",
    "        text = text.replace(symbol, replacement)\n",
    "    return text\n",
    "\n",
    "# Defining the function to tokenize and preprocess sentences\n",
    "def generate_tokenized_sentences(paragraph: str) -> Iterator[str]:\n",
    "    word_tokenizer = RegexpTokenizer(r'[-\\'\\w]+')\n",
    "\n",
    "    for sentence in sent_tokenize(paragraph):\n",
    "        # Replace tricky characters\n",
    "        sentence = replace_characters(sentence)\n",
    "        \n",
    "        # Lowercase the sentence\n",
    "        sentence = sentence.lower()\n",
    "\n",
    "        \n",
    "        # Tokenize the sentence into words\n",
    "        tokenized_sentence = word_tokenizer.tokenize(sentence)\n",
    "        \n",
    "        # Append [END] and [START] to the tokenized sentence\n",
    "        if tokenized_sentence:\n",
    "            tokenized_sentence.append('[END]')\n",
    "            tokenized_sentence.insert(0, \"[START]\")\n",
    "            \n",
    "            # Convert the tokenized sentence to a comma-separated string\n",
    "            tokenized_sentence_str = ', '.join(tokenized_sentence)\n",
    "            \n",
    "            yield tokenized_sentence_str\n",
    "\n",
    "# Initializing an empty list to store tokenized sentences\n",
    "all_tokenized_sentences = []\n",
    "\n",
    "# Processing each comment in the DataFrame\n",
    "for comment in df['Comment']:\n",
    "    # Tokenize and preprocess each comment\n",
    "    for tokenized_sentence in generate_tokenized_sentences(comment):\n",
    "        all_tokenized_sentences.append(tokenized_sentence)\n",
    "\n",
    "# Creating a text file to store the tokenized sentences\n",
    "with open('PROCESSED_CORPUS.txt', 'w', encoding='utf-8') as file:\n",
    "    for sentence in all_tokenized_sentences:\n",
    "        file.write(sentence + '\\n')"
   ]
  }
 ],
 "metadata": {
  "kernelspec": {
   "display_name": "Python 3 (ipykernel)",
   "language": "python",
   "name": "python3"
  },
  "language_info": {
   "codemirror_mode": {
    "name": "ipython",
    "version": 3
   },
   "file_extension": ".py",
   "mimetype": "text/x-python",
   "name": "python",
   "nbconvert_exporter": "python",
   "pygments_lexer": "ipython3",
   "version": "3.10.11"
  }
 },
 "nbformat": 4,
 "nbformat_minor": 5
}
