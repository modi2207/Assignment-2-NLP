{
 "cells": [
  {
   "cell_type": "markdown",
   "id": "3b68f733-5f86-4130-8bfb-9c30e237676b",
   "metadata": {},
   "source": [
    "### Good Turing - BiGram"
   ]
  },
  {
   "cell_type": "raw",
   "id": "8dd45e76-1e8c-44d2-9543-a2d37e8e8478",
   "metadata": {},
   "source": [
    "Refrence : https://drive.google.com/file/d/1uA15EH926m2wNDfYp66VoOiq63SYLOm8/view {Mayank Singh;CSE, IITGN}"
   ]
  },
  {
   "cell_type": "code",
   "execution_count": 5,
   "id": "cd9edb4f-c650-479f-a8a3-2cbc2c22256f",
   "metadata": {},
   "outputs": [],
   "source": [
    "import numpy as np\n",
    "import pandas as pd\n",
    "import matplotlib.pyplot as plt\n",
    "import sys\n",
    "import re\n",
    "import math\n",
    "import pickle"
   ]
  },
  {
   "cell_type": "code",
   "execution_count": 2,
   "id": "4b95fcfa-212a-4ac5-b735-a1094c4168e4",
   "metadata": {},
   "outputs": [
    {
     "data": {
      "text/html": [
       "<div>\n",
       "<style scoped>\n",
       "    .dataframe tbody tr th:only-of-type {\n",
       "        vertical-align: middle;\n",
       "    }\n",
       "\n",
       "    .dataframe tbody tr th {\n",
       "        vertical-align: top;\n",
       "    }\n",
       "\n",
       "    .dataframe thead th {\n",
       "        text-align: right;\n",
       "    }\n",
       "</style>\n",
       "<table border=\"1\" class=\"dataframe\">\n",
       "  <thead>\n",
       "    <tr style=\"text-align: right;\">\n",
       "      <th></th>\n",
       "      <th>Bigram1</th>\n",
       "      <th>Bigram2</th>\n",
       "      <th>Count</th>\n",
       "      <th>Prob</th>\n",
       "    </tr>\n",
       "  </thead>\n",
       "  <tbody>\n",
       "    <tr>\n",
       "      <th>0</th>\n",
       "      <td>[START]</td>\n",
       "      <td>i</td>\n",
       "      <td>22243</td>\n",
       "      <td>0.084024</td>\n",
       "    </tr>\n",
       "    <tr>\n",
       "      <th>1</th>\n",
       "      <td>of</td>\n",
       "      <td>the</td>\n",
       "      <td>12665</td>\n",
       "      <td>0.179730</td>\n",
       "    </tr>\n",
       "    <tr>\n",
       "      <th>2</th>\n",
       "      <td>in</td>\n",
       "      <td>the</td>\n",
       "      <td>11710</td>\n",
       "      <td>0.201438</td>\n",
       "    </tr>\n",
       "    <tr>\n",
       "      <th>3</th>\n",
       "      <td>[START]</td>\n",
       "      <td>the</td>\n",
       "      <td>10868</td>\n",
       "      <td>0.041055</td>\n",
       "    </tr>\n",
       "    <tr>\n",
       "      <th>4</th>\n",
       "      <td>[START]</td>\n",
       "      <td>you</td>\n",
       "      <td>7071</td>\n",
       "      <td>0.026711</td>\n",
       "    </tr>\n",
       "  </tbody>\n",
       "</table>\n",
       "</div>"
      ],
      "text/plain": [
       "   Bigram1 Bigram2  Count      Prob\n",
       "0  [START]       i  22243  0.084024\n",
       "1       of     the  12665  0.179730\n",
       "2       in     the  11710  0.201438\n",
       "3  [START]     the  10868  0.041055\n",
       "4  [START]     you   7071  0.026711"
      ]
     },
     "execution_count": 2,
     "metadata": {},
     "output_type": "execute_result"
    }
   ],
   "source": [
    "df = pd.read_csv('Data/Unprocessed_Data/bigram.csv')\n",
    "uni_gram_count = 89212\n",
    "df.head()"
   ]
  },
  {
   "cell_type": "code",
   "execution_count": 3,
   "id": "e4f7ea02-e3f1-4d96-b228-2e3fc7cde7a3",
   "metadata": {},
   "outputs": [],
   "source": [
    "## Making Dict of count : words\n",
    "uni_good = {}\n",
    "for i in range(len(df)):\n",
    "    if df.iloc[i][2] in uni_good:\n",
    "        uni_good[df.iloc[i][2]].append((df.iloc[i][0],df.iloc[i][1]))\n",
    "    else:\n",
    "        uni_good[df.iloc[i][2]] = [(df.iloc[i][0],df.iloc[i][1])]"
   ]
  },
  {
   "cell_type": "code",
   "execution_count": 4,
   "id": "cfdda1c5-fc6b-431d-b4a1-a7443fb68d55",
   "metadata": {},
   "outputs": [],
   "source": [
    "## Saving Data\n",
    "import pickle\n",
    "with open(\"bi_unigood_bkp.pkl\", \"wb\") as pickle_file:\n",
    "    pickle.dump(uni_good, pickle_file)"
   ]
  },
  {
   "cell_type": "markdown",
   "id": "a1deef01-cc9f-49be-bf5d-6ecb25bcd252",
   "metadata": {},
   "source": [
    "$$\n",
    "\\begin{align*}\n",
    "\\text{Good Turning Formula : }\n",
    "c^* = \\frac{(c+1)N_{c+1}}{N_c} \n",
    "\\end{align*}\n",
    "$$"
   ]
  },
  {
   "cell_type": "code",
   "execution_count": 5,
   "id": "08cd81fd-c32b-4cc0-98f4-d429d192eddc",
   "metadata": {},
   "outputs": [],
   "source": [
    "## temp{} - c* : list of n-grams\n",
    "temp = {}\n",
    "for i in range(200,0,-1):\n",
    "    ## i+1 == c+1\n",
    "    ## len(uni_good[i+1]) = N_c+1\n",
    "    ## len(uni_good[i]) = N_c\n",
    "    ## c_star = c*\n",
    "    c_star = (i+1)*len(uni_good[i+1])/len(uni_good[i])\n",
    "\n",
    "    ##If count already present just add small value\n",
    "    while c_star in temp:\n",
    "        c_star = c_star+0.001\n",
    "    temp[c_star] = uni_good[i]"
   ]
  },
  {
   "cell_type": "markdown",
   "id": "853c1587-92fe-404c-9222-18a6c5bedbf5",
   "metadata": {},
   "source": [
    "##### Calculating Probabilities"
   ]
  },
  {
   "cell_type": "code",
   "execution_count": 7,
   "id": "b7cdca54-03f1-44bb-8934-8b9c141d47f0",
   "metadata": {
    "scrolled": true
   },
   "outputs": [],
   "source": [
    "new_count = np.sum(np.array(list(temp.keys())))"
   ]
  },
  {
   "cell_type": "code",
   "execution_count": 8,
   "id": "7af596cc-d5b9-4e84-be2e-80eca46156d7",
   "metadata": {},
   "outputs": [],
   "source": [
    "good_turining_count = {}\n",
    "\n",
    "for i in temp:\n",
    "    for j in temp[i]:\n",
    "        good_turining_count[j] = i\n",
    "\n",
    "## Adding rest of corpus\n",
    "for i in uni_good:\n",
    "    if i <= 200:\n",
    "        break\n",
    "    for j in uni_good[i]:\n",
    "        good_turining_count[j] = i"
   ]
  },
  {
   "cell_type": "code",
   "execution_count": 11,
   "id": "117fffee-b2a9-47fa-b875-4f91c8623b57",
   "metadata": {},
   "outputs": [],
   "source": [
    "## Importing Vocabulary\n",
    "with open('Vocabulary.pkl','rb') as file:\n",
    "    vocabulary = pickle.load(file)"
   ]
  },
  {
   "cell_type": "code",
   "execution_count": 12,
   "id": "1bb2e180-748a-455a-8a87-c34f93cfdc03",
   "metadata": {},
   "outputs": [
    {
     "name": "stdout",
     "output_type": "stream",
     "text": [
      "6.228444470671075e-05\n"
     ]
    }
   ],
   "source": [
    "## 0th Count\n",
    "zero_count = len(uni_good[1])/((len(vocabulary)**2)-len(df))\n",
    "print(zero_count)"
   ]
  },
  {
   "cell_type": "code",
   "execution_count": 13,
   "id": "332b54b3-31b5-4779-85f6-fd6e6cb13d24",
   "metadata": {},
   "outputs": [
    {
     "name": "stdout",
     "output_type": "stream",
     "text": [
      "3412030.05706228\n"
     ]
    }
   ],
   "source": [
    "### Getting sum of all the counts\n",
    "sum = np.sum(np.array(list(good_turining_count.values()))) + zero_count\n",
    "print(sum)"
   ]
  },
  {
   "cell_type": "code",
   "execution_count": 14,
   "id": "b42f0365-7c06-48ab-a0c4-d2535fb745d4",
   "metadata": {},
   "outputs": [],
   "source": [
    "#### Converting good_turining_count dict from count to probability\n",
    "for i in good_turining_count:\n",
    "    good_turining_count[i] = good_turining_count[i]/sum\n",
    "\n",
    "good_turining_count[0] = zero_count/sum"
   ]
  },
  {
   "cell_type": "code",
   "execution_count": 15,
   "id": "64a28410-3843-442e-b921-4090245ac2ae",
   "metadata": {},
   "outputs": [
    {
     "name": "stdout",
     "output_type": "stream",
     "text": [
      "Sum of Prob = 0.9999999999999988\n"
     ]
    }
   ],
   "source": [
    "print(\"Sum of Prob = \" + str(np.sum(np.array(list(good_turining_count.values())))))"
   ]
  },
  {
   "cell_type": "code",
   "execution_count": 16,
   "id": "c6aae6b2-bb60-4db3-be13-a23523d7ec9f",
   "metadata": {},
   "outputs": [],
   "source": [
    "good_turining_count[-1] = len(df)"
   ]
  },
  {
   "cell_type": "code",
   "execution_count": 17,
   "id": "0178062c-b1a4-4c26-b45d-e7a26d80c788",
   "metadata": {},
   "outputs": [],
   "source": [
    "with open(\"bigram_prob.pkl\", \"wb\") as pickle_file:\n",
    "    pickle.dump(good_turining_count, pickle_file)"
   ]
  },
  {
   "cell_type": "code",
   "execution_count": 8,
   "id": "f7567c47-a585-46e0-8c7b-b399f548bcdf",
   "metadata": {},
   "outputs": [],
   "source": [
    "## Importing saved data since my machine crashed\n",
    "with open('bigram_prob.pkl','rb') as file:\n",
    "    good_turining_count = pickle.load(file)"
   ]
  },
  {
   "cell_type": "markdown",
   "id": "97a8812c-e754-4670-8282-34399371db6e",
   "metadata": {},
   "source": [
    "### Testing"
   ]
  },
  {
   "cell_type": "code",
   "execution_count": 9,
   "id": "edd237a7-cc23-4a92-88ee-6db57023a59c",
   "metadata": {},
   "outputs": [
    {
     "data": {
      "text/html": [
       "<div>\n",
       "<style scoped>\n",
       "    .dataframe tbody tr th:only-of-type {\n",
       "        vertical-align: middle;\n",
       "    }\n",
       "\n",
       "    .dataframe tbody tr th {\n",
       "        vertical-align: top;\n",
       "    }\n",
       "\n",
       "    .dataframe thead th {\n",
       "        text-align: right;\n",
       "    }\n",
       "</style>\n",
       "<table border=\"1\" class=\"dataframe\">\n",
       "  <thead>\n",
       "    <tr style=\"text-align: right;\">\n",
       "      <th></th>\n",
       "      <th>Text</th>\n",
       "    </tr>\n",
       "  </thead>\n",
       "  <tbody>\n",
       "    <tr>\n",
       "      <th>0</th>\n",
       "      <td>[START], woh, banda, kahan, hai, jo, kal, keh,...</td>\n",
       "    </tr>\n",
       "    <tr>\n",
       "      <th>1</th>\n",
       "      <td>[START], the, junta, will, end, up, with, a, b...</td>\n",
       "    </tr>\n",
       "    <tr>\n",
       "      <th>2</th>\n",
       "      <td>[START], that, doesn't, disprove, anything, i,...</td>\n",
       "    </tr>\n",
       "    <tr>\n",
       "      <th>3</th>\n",
       "      <td>[START], international, trade, relationships, ...</td>\n",
       "    </tr>\n",
       "    <tr>\n",
       "      <th>4</th>\n",
       "      <td>[START], hamare, pet, ki, bas, ki, bat, nhi, r...</td>\n",
       "    </tr>\n",
       "  </tbody>\n",
       "</table>\n",
       "</div>"
      ],
      "text/plain": [
       "                                                Text\n",
       "0  [START], woh, banda, kahan, hai, jo, kal, keh,...\n",
       "1  [START], the, junta, will, end, up, with, a, b...\n",
       "2  [START], that, doesn't, disprove, anything, i,...\n",
       "3  [START], international, trade, relationships, ...\n",
       "4  [START], hamare, pet, ki, bas, ki, bat, nhi, r..."
      ]
     },
     "execution_count": 9,
     "metadata": {},
     "output_type": "execute_result"
    }
   ],
   "source": [
    "df = pd.read_csv('Data/testing_data.txt',\n",
    "                 delimiter='\\t',header=None, names=['Text'])\n",
    "df.head()"
   ]
  },
  {
   "cell_type": "markdown",
   "id": "a4631918-961f-4d4c-807b-01b472a497fa",
   "metadata": {},
   "source": [
    "$$ log[PP(Perplexity)] = -\\frac{1}{N} [log(P(w_2|w_1)) + ...  log(P(w_n|w_{n-1}))] $$"
   ]
  },
  {
   "cell_type": "code",
   "execution_count": 10,
   "id": "9e5c3100-06e7-4978-8aec-1f67138894c1",
   "metadata": {},
   "outputs": [],
   "source": [
    "## Importing Unigram\n",
    "with open('unigram_prob.pkl','rb') as file:\n",
    "    unigram_probability = pickle.load(file)"
   ]
  },
  {
   "cell_type": "code",
   "execution_count": 13,
   "id": "59c93ca7-e1ba-44a8-b046-ec886495dcb5",
   "metadata": {
    "scrolled": true
   },
   "outputs": [],
   "source": [
    "arr_pp = []\n",
    "log_sum = 0\n",
    "for j in range(len(df)):\n",
    "    string1 = df.iloc[j][0].split(\", \")\n",
    "    ## Unigram probability / First word\n",
    "    log_sum += math.log(unigram_probability[string1[0]])\n",
    "    ## Rest of bi gram\n",
    "    for i in range(1,len(string1)):\n",
    "        if (string1[i-1],string1[i]) in good_turining_count:\n",
    "            if string1[i-1] in unigram_probability:\n",
    "                log_sum += math.log(good_turining_count[(string1[i-1],string1[i])]) - math.log(unigram_probability[string1[i-1]])\n",
    "            else:\n",
    "                log_sum += math.log(good_turining_count[(string1[i-1],string1[i])]) - math.log(unigram_probability[0])\n",
    "        else:\n",
    "            if string1[i-1] in unigram_probability:\n",
    "                log_sum += math.log(good_turining_count[0]) - math.log(unigram_probability[string1[i-1]])\n",
    "            else:\n",
    "                log_sum += math.log(good_turining_count[0]) - math.log(unigram_probability[0])\n",
    "    log_pp = -log_sum/len(string1)\n",
    "    arr_pp.append(log_pp)"
   ]
  },
  {
   "cell_type": "code",
   "execution_count": 14,
   "id": "c8776584-6cb7-4316-9991-54b5d107be23",
   "metadata": {},
   "outputs": [],
   "source": [
    "with open(\"Backup/perplexity_bigram.pkl\", \"wb\") as pickle_file:\n",
    "    pickle.dump(arr_pp, pickle_file)"
   ]
  },
  {
   "cell_type": "code",
   "execution_count": 15,
   "id": "5131abb6-e2ab-4b65-b785-f336a8fe8304",
   "metadata": {},
   "outputs": [
    {
     "data": {
      "image/png": "[encoded data removed]",
      "text/plain": [
       "<Figure size 640x480 with 1 Axes>"
      ]
     },
     "metadata": {},
     "output_type": "display_data"
    }
   ],
   "source": [
    "### PLoting the graph\n",
    "x = list(range(1,len(df)+1))\n",
    "plt.scatter(x,arr_pp,s=1)\n",
    "plt.yscale('log')\n",
    "plt.xscale('log')\n",
    "plt.xlabel('Sentence Number')\n",
    "plt.ylabel('Log Perplexity')\n",
    "plt.show()"
   ]
  },
  {
   "cell_type": "code",
   "execution_count": 16,
   "id": "1a8af40e-a067-4151-97bf-6bfbfe7c04f9",
   "metadata": {},
   "outputs": [
    {
     "data": {
      "text/html": [
       "<div>\n",
       "<style scoped>\n",
       "    .dataframe tbody tr th:only-of-type {\n",
       "        vertical-align: middle;\n",
       "    }\n",
       "\n",
       "    .dataframe tbody tr th {\n",
       "        vertical-align: top;\n",
       "    }\n",
       "\n",
       "    .dataframe thead th {\n",
       "        text-align: right;\n",
       "    }\n",
       "</style>\n",
       "<table border=\"1\" class=\"dataframe\">\n",
       "  <thead>\n",
       "    <tr style=\"text-align: right;\">\n",
       "      <th></th>\n",
       "      <th>Unnamed: 0</th>\n",
       "      <th>Data</th>\n",
       "      <th>Perplexity</th>\n",
       "    </tr>\n",
       "  </thead>\n",
       "  <tbody>\n",
       "    <tr>\n",
       "      <th>0</th>\n",
       "      <td>0</td>\n",
       "      <td>[START], woh, banda, kahan, hai, jo, kal, keh,...</td>\n",
       "      <td>12561.234607</td>\n",
       "    </tr>\n",
       "    <tr>\n",
       "      <th>1</th>\n",
       "      <td>1</td>\n",
       "      <td>[START], the, junta, will, end, up, with, a, b...</td>\n",
       "      <td>1150.445807</td>\n",
       "    </tr>\n",
       "    <tr>\n",
       "      <th>2</th>\n",
       "      <td>2</td>\n",
       "      <td>[START], that, doesn't, disprove, anything, i,...</td>\n",
       "      <td>1411.930660</td>\n",
       "    </tr>\n",
       "    <tr>\n",
       "      <th>3</th>\n",
       "      <td>3</td>\n",
       "      <td>[START], international, trade, relationships, ...</td>\n",
       "      <td>6950.642060</td>\n",
       "    </tr>\n",
       "    <tr>\n",
       "      <th>4</th>\n",
       "      <td>4</td>\n",
       "      <td>[START], hamare, pet, ki, bas, ki, bat, nhi, r...</td>\n",
       "      <td>23462.025170</td>\n",
       "    </tr>\n",
       "  </tbody>\n",
       "</table>\n",
       "</div>"
      ],
      "text/plain": [
       "   Unnamed: 0                                               Data    Perplexity\n",
       "0           0  [START], woh, banda, kahan, hai, jo, kal, keh,...  12561.234607\n",
       "1           1  [START], the, junta, will, end, up, with, a, b...   1150.445807\n",
       "2           2  [START], that, doesn't, disprove, anything, i,...   1411.930660\n",
       "3           3  [START], international, trade, relationships, ...   6950.642060\n",
       "4           4  [START], hamare, pet, ki, bas, ki, bat, nhi, r...  23462.025170"
      ]
     },
     "execution_count": 16,
     "metadata": {},
     "output_type": "execute_result"
    }
   ],
   "source": [
    "## Importing Additive - 1 data\n",
    "df = pd.read_csv('Data/Additive/biagram_Perplexity_with_smoothing.csv')\n",
    "df.head()"
   ]
  },
  {
   "cell_type": "code",
   "execution_count": 17,
   "id": "bf7d125c-8ef0-4c46-9138-232ada541241",
   "metadata": {},
   "outputs": [],
   "source": [
    "additive_pp = list(df.iloc[:-1,2])"
   ]
  },
  {
   "cell_type": "code",
   "execution_count": 18,
   "id": "bf1df543-6d2e-4681-9593-1828b5212d59",
   "metadata": {},
   "outputs": [
    {
     "data": {
      "text/plain": [
       "66180"
      ]
     },
     "execution_count": 18,
     "metadata": {},
     "output_type": "execute_result"
    }
   ],
   "source": [
    "len(x)"
   ]
  },
  {
   "cell_type": "code",
   "execution_count": 19,
   "id": "5e0fe662-b27c-4423-915a-9ad09266b264",
   "metadata": {},
   "outputs": [
    {
     "data": {
      "image/png": "[encoded data removed]",
      "text/plain": [
       "<Figure size 640x480 with 1 Axes>"
      ]
     },
     "metadata": {},
     "output_type": "display_data"
    }
   ],
   "source": [
    "### PLoting the graph\n",
    "x = list(range(1,len(arr_pp)+1))\n",
    "plt.scatter(x,arr_pp,s=1,label='Good Turing')\n",
    "plt.scatter(x,additive_pp,s=1,label = 'Additive')\n",
    "plt.yscale('log')\n",
    "plt.xscale('log')\n",
    "plt.xlabel('Sentence')\n",
    "plt.ylabel('Log Perplexity')\n",
    "plt.legend()\n",
    "plt.show()"
   ]
  },
  {
   "cell_type": "markdown",
   "id": "11ba6c79-5ffc-4615-814a-56d7a928b7cd",
   "metadata": {},
   "source": [
    "As per the above image we can see that Additive-1 smoothing is performing better than Good turing. \n",
    "\n",
    "But there are little data points Good Turing is performing better than Additive Smoothing.\n",
    "\n",
    "In this case Additive smoothing is much prefered."
   ]
  },
  {
   "cell_type": "code",
   "execution_count": null,
   "id": "5b52ff80-43f7-4dae-b2e0-ef9108365e93",
   "metadata": {},
   "outputs": [],
   "source": []
  }
 ],
 "metadata": {
  "kernelspec": {
   "display_name": "Python 3 (ipykernel)",
   "language": "python",
   "name": "python3"
  },
  "language_info": {
   "codemirror_mode": {
    "name": "ipython",
    "version": 3
   },
   "file_extension": ".py",
   "mimetype": "text/x-python",
   "name": "python",
   "nbconvert_exporter": "python",
   "pygments_lexer": "ipython3",
   "version": "3.9.16"
  }
 },
 "nbformat": 4,
 "nbformat_minor": 5
}
