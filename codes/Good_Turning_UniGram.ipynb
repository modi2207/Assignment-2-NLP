{
 "cells": [
  {
   "cell_type": "markdown",
   "id": "3b68f733-5f86-4130-8bfb-9c30e237676b",
   "metadata": {},
   "source": [
    "### Good Turing - UniGram"
   ]
  },
  {
   "cell_type": "raw",
   "id": "8dd45e76-1e8c-44d2-9543-a2d37e8e8478",
   "metadata": {},
   "source": [
    "Refrence : https://drive.google.com/file/d/1uA15EH926m2wNDfYp66VoOiq63SYLOm8/view {Mayank Singh;CSE, IITGN}"
   ]
  },
  {
   "cell_type": "code",
   "execution_count": 1,
   "id": "cd9edb4f-c650-479f-a8a3-2cbc2c22256f",
   "metadata": {},
   "outputs": [],
   "source": [
    "import numpy as np\n",
    "import pandas as pd\n",
    "import matplotlib.pyplot as plt\n",
    "import sys\n",
    "import re\n",
    "from nltk.corpus import words\n",
    "import math\n",
    "import pickle"
   ]
  },
  {
   "cell_type": "code",
   "execution_count": 2,
   "id": "4b95fcfa-212a-4ac5-b735-a1094c4168e4",
   "metadata": {},
   "outputs": [
    {
     "data": {
      "text/html": [
       "<div>\n",
       "<style scoped>\n",
       "    .dataframe tbody tr th:only-of-type {\n",
       "        vertical-align: middle;\n",
       "    }\n",
       "\n",
       "    .dataframe tbody tr th {\n",
       "        vertical-align: top;\n",
       "    }\n",
       "\n",
       "    .dataframe thead th {\n",
       "        text-align: right;\n",
       "    }\n",
       "</style>\n",
       "<table border=\"1\" class=\"dataframe\">\n",
       "  <thead>\n",
       "    <tr style=\"text-align: right;\">\n",
       "      <th></th>\n",
       "      <th>Word</th>\n",
       "      <th>Count</th>\n",
       "      <th>Prob</th>\n",
       "    </tr>\n",
       "  </thead>\n",
       "  <tbody>\n",
       "    <tr>\n",
       "      <th>0</th>\n",
       "      <td>[START]</td>\n",
       "      <td>264721</td>\n",
       "      <td>0.061630</td>\n",
       "    </tr>\n",
       "    <tr>\n",
       "      <th>1</th>\n",
       "      <td>[END]</td>\n",
       "      <td>264721</td>\n",
       "      <td>0.061630</td>\n",
       "    </tr>\n",
       "    <tr>\n",
       "      <th>2</th>\n",
       "      <td>the</td>\n",
       "      <td>150539</td>\n",
       "      <td>0.035047</td>\n",
       "    </tr>\n",
       "    <tr>\n",
       "      <th>3</th>\n",
       "      <td>to</td>\n",
       "      <td>94517</td>\n",
       "      <td>0.022005</td>\n",
       "    </tr>\n",
       "    <tr>\n",
       "      <th>4</th>\n",
       "      <td>and</td>\n",
       "      <td>83257</td>\n",
       "      <td>0.019383</td>\n",
       "    </tr>\n",
       "  </tbody>\n",
       "</table>\n",
       "</div>"
      ],
      "text/plain": [
       "      Word   Count      Prob\n",
       "0  [START]  264721  0.061630\n",
       "1    [END]  264721  0.061630\n",
       "2      the  150539  0.035047\n",
       "3       to   94517  0.022005\n",
       "4      and   83257  0.019383"
      ]
     },
     "execution_count": 2,
     "metadata": {},
     "output_type": "execute_result"
    }
   ],
   "source": [
    "df = pd.read_csv('Data/Unprocessed_Data/unigram.csv')\n",
    "df.head()"
   ]
  },
  {
   "cell_type": "code",
   "execution_count": 3,
   "id": "9a4febee-2b8c-4197-b7c9-543326520106",
   "metadata": {},
   "outputs": [
    {
     "data": {
      "text/plain": [
       "89212"
      ]
     },
     "execution_count": 3,
     "metadata": {},
     "output_type": "execute_result"
    }
   ],
   "source": [
    "len(df)"
   ]
  },
  {
   "cell_type": "code",
   "execution_count": 4,
   "id": "e4f7ea02-e3f1-4d96-b228-2e3fc7cde7a3",
   "metadata": {},
   "outputs": [],
   "source": [
    "## Making Dict of count : words\n",
    "uni_good = {}\n",
    "for i in range(len(df)):\n",
    "    if df.iloc[i][1] in uni_good:\n",
    "        uni_good[df.iloc[i][1]].append(df.iloc[i][0])\n",
    "    else:\n",
    "        uni_good[df.iloc[i][1]] = [df.iloc[i][0]]"
   ]
  },
  {
   "cell_type": "code",
   "execution_count": 5,
   "id": "29cb84c1-766c-4893-b11f-ac34897cbdbb",
   "metadata": {},
   "outputs": [],
   "source": [
    "## Importing Vocabulary\n",
    "with open('Vocabulary.pkl','rb') as file:\n",
    "    vocabulary = pickle.load(file)"
   ]
  },
  {
   "cell_type": "markdown",
   "id": "a1deef01-cc9f-49be-bf5d-6ecb25bcd252",
   "metadata": {},
   "source": [
    "$$\n",
    "\\begin{align*}\n",
    "\\text{Good Turning Formula : }\n",
    "c^* = \\frac{(c+1)N_{c+1}}{N_c} \n",
    "\\end{align*}\n",
    "$$"
   ]
  },
  {
   "cell_type": "code",
   "execution_count": 25,
   "id": "907b3bf0-a21e-4555-866c-9fcbbcf3b937",
   "metadata": {
    "scrolled": true
   },
   "outputs": [],
   "source": [
    "## temp{} - c* : list of n-grams\n",
    "temp = {}\n",
    "for i in range(200,0,-1):\n",
    "    ## i+1 == c+1\n",
    "    ## len(uni_good[i+1]) = N_c+1\n",
    "    ## len(uni_good[i]) = N_c\n",
    "    ## c_star = c*\n",
    "    c_star = (i+1)*len(uni_good[i+1])/len(uni_good[i])\n",
    "\n",
    "    ##If count already present just add small value\n",
    "    while c_star in temp:\n",
    "        c_star = c_star+0.001\n",
    "    temp[c_star] = uni_good[i]"
   ]
  },
  {
   "cell_type": "markdown",
   "id": "853c1587-92fe-404c-9222-18a6c5bedbf5",
   "metadata": {},
   "source": [
    "##### Calculating Probabilities"
   ]
  },
  {
   "cell_type": "code",
   "execution_count": 26,
   "id": "b7cdca54-03f1-44bb-8934-8b9c141d47f0",
   "metadata": {
    "scrolled": true
   },
   "outputs": [],
   "source": [
    "new_count = np.sum(np.array(list(temp.keys())))"
   ]
  },
  {
   "cell_type": "code",
   "execution_count": 27,
   "id": "9260a958-8c50-4bc8-92c8-4fcfad58e616",
   "metadata": {
    "scrolled": true
   },
   "outputs": [],
   "source": [
    "## Making Dict for prob. -- word : prob\n",
    "good_turining_count = {}\n",
    "\n",
    "for i in temp:\n",
    "    for j in temp[i]:\n",
    "        good_turining_count[j] = i\n",
    "\n",
    "## Adding rest of corpus\n",
    "for i in uni_good:\n",
    "    if i <= 200:\n",
    "        break\n",
    "    for j in uni_good[i]:\n",
    "        good_turining_count[j] = i"
   ]
  },
  {
   "cell_type": "code",
   "execution_count": 28,
   "id": "4aff9c4b-0f58-4c9b-8b2c-68748962dd43",
   "metadata": {},
   "outputs": [
    {
     "name": "stdout",
     "output_type": "stream",
     "text": [
      "4.151997738409348\n"
     ]
    }
   ],
   "source": [
    "## 0th Count\n",
    "zero_count = len(uni_good[1])/(len(vocabulary)-len(df))\n",
    "print(zero_count)"
   ]
  },
  {
   "cell_type": "code",
   "execution_count": 29,
   "id": "cba24a93-bf17-459a-a874-e611c4c745f2",
   "metadata": {},
   "outputs": [
    {
     "name": "stdout",
     "output_type": "stream",
     "text": [
      "4253282.184258285\n"
     ]
    }
   ],
   "source": [
    "### Getting sum of all the counts\n",
    "sum = np.sum(np.array(list(good_turining_count.values()))) + zero_count\n",
    "print(sum)"
   ]
  },
  {
   "cell_type": "code",
   "execution_count": 30,
   "id": "caad502a-739e-4a6d-933b-86ce80e406ab",
   "metadata": {},
   "outputs": [],
   "source": [
    "#### Converting good_turining_count dict from count to probability\n",
    "for i in good_turining_count:\n",
    "    good_turining_count[i] = good_turining_count[i]/sum\n",
    "\n",
    "good_turining_count[0] = zero_count/sum"
   ]
  },
  {
   "cell_type": "code",
   "execution_count": 31,
   "id": "93967e94-df45-4055-8d7e-5f0ca53c292a",
   "metadata": {},
   "outputs": [
    {
     "name": "stdout",
     "output_type": "stream",
     "text": [
      "Sum of Prob = 0.9999999999999999\n"
     ]
    }
   ],
   "source": [
    "print(\"Sum of Prob = \" + str(np.sum(np.array(list(good_turining_count.values())))))"
   ]
  },
  {
   "cell_type": "code",
   "execution_count": 32,
   "id": "2c40fd75-c2a2-421e-b207-8ea1bef6bd97",
   "metadata": {},
   "outputs": [],
   "source": [
    "good_turining_count[-1] = len(df)"
   ]
  },
  {
   "cell_type": "code",
   "execution_count": 33,
   "id": "1f4347c1-441b-4eb6-8d4c-79e8d55b102e",
   "metadata": {},
   "outputs": [],
   "source": [
    "with open(\"unigram_prob.pkl\", \"wb\") as pickle_file:\n",
    "    pickle.dump(good_turining_count, pickle_file)"
   ]
  },
  {
   "cell_type": "markdown",
   "id": "97a8812c-e754-4670-8282-34399371db6e",
   "metadata": {},
   "source": [
    "### Testing"
   ]
  },
  {
   "cell_type": "code",
   "execution_count": 44,
   "id": "edd237a7-cc23-4a92-88ee-6db57023a59c",
   "metadata": {},
   "outputs": [
    {
     "data": {
      "text/html": [
       "<div>\n",
       "<style scoped>\n",
       "    .dataframe tbody tr th:only-of-type {\n",
       "        vertical-align: middle;\n",
       "    }\n",
       "\n",
       "    .dataframe tbody tr th {\n",
       "        vertical-align: top;\n",
       "    }\n",
       "\n",
       "    .dataframe thead th {\n",
       "        text-align: right;\n",
       "    }\n",
       "</style>\n",
       "<table border=\"1\" class=\"dataframe\">\n",
       "  <thead>\n",
       "    <tr style=\"text-align: right;\">\n",
       "      <th></th>\n",
       "      <th>Text</th>\n",
       "    </tr>\n",
       "  </thead>\n",
       "  <tbody>\n",
       "    <tr>\n",
       "      <th>0</th>\n",
       "      <td>[START], woh, banda, kahan, hai, jo, kal, keh,...</td>\n",
       "    </tr>\n",
       "    <tr>\n",
       "      <th>1</th>\n",
       "      <td>[START], the, junta, will, end, up, with, a, b...</td>\n",
       "    </tr>\n",
       "    <tr>\n",
       "      <th>2</th>\n",
       "      <td>[START], that, doesn't, disprove, anything, i,...</td>\n",
       "    </tr>\n",
       "    <tr>\n",
       "      <th>3</th>\n",
       "      <td>[START], international, trade, relationships, ...</td>\n",
       "    </tr>\n",
       "    <tr>\n",
       "      <th>4</th>\n",
       "      <td>[START], hamare, pet, ki, bas, ki, bat, nhi, r...</td>\n",
       "    </tr>\n",
       "  </tbody>\n",
       "</table>\n",
       "</div>"
      ],
      "text/plain": [
       "                                                Text\n",
       "0  [START], woh, banda, kahan, hai, jo, kal, keh,...\n",
       "1  [START], the, junta, will, end, up, with, a, b...\n",
       "2  [START], that, doesn't, disprove, anything, i,...\n",
       "3  [START], international, trade, relationships, ...\n",
       "4  [START], hamare, pet, ki, bas, ki, bat, nhi, r..."
      ]
     },
     "execution_count": 44,
     "metadata": {},
     "output_type": "execute_result"
    }
   ],
   "source": [
    "df = pd.read_csv('Data/testing_data.txt',\n",
    "                 delimiter='\\t',header=None, names=['Text'])\n",
    "df.head()"
   ]
  },
  {
   "cell_type": "code",
   "execution_count": 45,
   "id": "eadad154-837b-4d6f-95d7-707b27d6dd1e",
   "metadata": {},
   "outputs": [
    {
     "data": {
      "text/plain": [
       "66180"
      ]
     },
     "execution_count": 45,
     "metadata": {},
     "output_type": "execute_result"
    }
   ],
   "source": [
    "len(df)"
   ]
  },
  {
   "cell_type": "markdown",
   "id": "a4631918-961f-4d4c-807b-01b472a497fa",
   "metadata": {},
   "source": [
    "$$ log[PP(Perplexity)] = -\\frac{1}{N} [log(P(w_1)) + ...  log(P(w_n))] $$"
   ]
  },
  {
   "cell_type": "code",
   "execution_count": 46,
   "id": "59c93ca7-e1ba-44a8-b046-ec886495dcb5",
   "metadata": {
    "scrolled": true
   },
   "outputs": [],
   "source": [
    "arr_pp = []\n",
    "log_sum = 0\n",
    "for j in range(len(df)):\n",
    "    string1 = df.iloc[j][0].split(\", \")\n",
    "    for i in string1:\n",
    "        if i in good_turining_count:\n",
    "            log_sum += math.log(good_turining_count[i])\n",
    "        else:\n",
    "            log_sum += math.log(good_turining_count[0])\n",
    "    log_pp = -log_sum/len(string1)\n",
    "    arr_pp.append(log_pp)"
   ]
  },
  {
   "cell_type": "code",
   "execution_count": 47,
   "id": "972b339e-037b-434f-9f74-07ff3e84cfb2",
   "metadata": {
    "scrolled": true
   },
   "outputs": [],
   "source": [
    "with open(\"Backup/perplexity_unigram.pkl\", \"wb\") as pickle_file:\n",
    "    pickle.dump(arr_pp, pickle_file)"
   ]
  },
  {
   "cell_type": "code",
   "execution_count": 48,
   "id": "5131abb6-e2ab-4b65-b785-f336a8fe8304",
   "metadata": {},
   "outputs": [
    {
     "data": {
      "image/png": "[encoded data removed]",
      "text/plain": [
       "<Figure size 640x480 with 1 Axes>"
      ]
     },
     "metadata": {},
     "output_type": "display_data"
    }
   ],
   "source": [
    "### PLoting the graph\n",
    "x = list(range(1,len(df)+1))\n",
    "plt.scatter(x,arr_pp,s=1)\n",
    "plt.yscale('log')\n",
    "plt.xscale('log')\n",
    "plt.xlabel('Sentence')\n",
    "plt.ylabel('Log Perplexity')\n",
    "plt.show()"
   ]
  },
  {
   "cell_type": "code",
   "execution_count": 49,
   "id": "1a8af40e-a067-4151-97bf-6bfbfe7c04f9",
   "metadata": {},
   "outputs": [
    {
     "data": {
      "text/html": [
       "<div>\n",
       "<style scoped>\n",
       "    .dataframe tbody tr th:only-of-type {\n",
       "        vertical-align: middle;\n",
       "    }\n",
       "\n",
       "    .dataframe tbody tr th {\n",
       "        vertical-align: top;\n",
       "    }\n",
       "\n",
       "    .dataframe thead th {\n",
       "        text-align: right;\n",
       "    }\n",
       "</style>\n",
       "<table border=\"1\" class=\"dataframe\">\n",
       "  <thead>\n",
       "    <tr style=\"text-align: right;\">\n",
       "      <th></th>\n",
       "      <th>Unnamed: 0</th>\n",
       "      <th>Data</th>\n",
       "      <th>Perplexity</th>\n",
       "    </tr>\n",
       "  </thead>\n",
       "  <tbody>\n",
       "    <tr>\n",
       "      <th>0</th>\n",
       "      <td>0</td>\n",
       "      <td>[START], woh, banda, kahan, hai, jo, kal, keh,...</td>\n",
       "      <td>13605.077948</td>\n",
       "    </tr>\n",
       "    <tr>\n",
       "      <th>1</th>\n",
       "      <td>1</td>\n",
       "      <td>[START], the, junta, will, end, up, with, a, b...</td>\n",
       "      <td>1179.558606</td>\n",
       "    </tr>\n",
       "    <tr>\n",
       "      <th>2</th>\n",
       "      <td>2</td>\n",
       "      <td>[START], that, doesn't, disprove, anything, i,...</td>\n",
       "      <td>1881.656932</td>\n",
       "    </tr>\n",
       "    <tr>\n",
       "      <th>3</th>\n",
       "      <td>3</td>\n",
       "      <td>[START], international, trade, relationships, ...</td>\n",
       "      <td>13400.217768</td>\n",
       "    </tr>\n",
       "    <tr>\n",
       "      <th>4</th>\n",
       "      <td>4</td>\n",
       "      <td>[START], hamare, pet, ki, bas, ki, bat, nhi, r...</td>\n",
       "      <td>24903.690627</td>\n",
       "    </tr>\n",
       "  </tbody>\n",
       "</table>\n",
       "</div>"
      ],
      "text/plain": [
       "   Unnamed: 0                                               Data    Perplexity\n",
       "0           0  [START], woh, banda, kahan, hai, jo, kal, keh,...  13605.077948\n",
       "1           1  [START], the, junta, will, end, up, with, a, b...   1179.558606\n",
       "2           2  [START], that, doesn't, disprove, anything, i,...   1881.656932\n",
       "3           3  [START], international, trade, relationships, ...  13400.217768\n",
       "4           4  [START], hamare, pet, ki, bas, ki, bat, nhi, r...  24903.690627"
      ]
     },
     "execution_count": 49,
     "metadata": {},
     "output_type": "execute_result"
    }
   ],
   "source": [
    "## Importing Additive - 1 data\n",
    "df = pd.read_csv('Data/Additive/unigram_Perplexity_with_smoothing.csv')\n",
    "df.head()"
   ]
  },
  {
   "cell_type": "code",
   "execution_count": 50,
   "id": "c687dd89-fc52-4444-abfd-efec0d298242",
   "metadata": {},
   "outputs": [],
   "source": [
    "additive_pp = list(df.iloc[:-1,2])"
   ]
  },
  {
   "cell_type": "code",
   "execution_count": 52,
   "id": "ed112b39-7c16-4f56-8c4d-91b7c659b040",
   "metadata": {},
   "outputs": [
    {
     "data": {
      "text/plain": [
       "66181"
      ]
     },
     "execution_count": 52,
     "metadata": {},
     "output_type": "execute_result"
    }
   ],
   "source": [
    "len(x)"
   ]
  },
  {
   "cell_type": "code",
   "execution_count": 57,
   "id": "09e2d2b9-18ca-425f-8dea-caf0e97f3e65",
   "metadata": {},
   "outputs": [
    {
     "data": {
      "image/png": "[encoded data removed]",
      "text/plain": [
       "<Figure size 640x480 with 1 Axes>"
      ]
     },
     "metadata": {},
     "output_type": "display_data"
    }
   ],
   "source": [
    "### PLoting the graph\n",
    "x = list(range(1,len(arr_pp)+1))\n",
    "plt.scatter(x,arr_pp,s=1,label='Good Turing')\n",
    "plt.scatter(x,additive_pp,s=1,label = 'Additive')\n",
    "plt.yscale('log')\n",
    "plt.xscale('log')\n",
    "plt.xlabel('Sentence')\n",
    "plt.ylabel('Log Perplexity')\n",
    "plt.legend()\n",
    "plt.show()"
   ]
  },
  {
   "cell_type": "markdown",
   "id": "48d0f52b-9a49-4f62-8270-b471aa3d6eaf",
   "metadata": {},
   "source": [
    "As per the above image we can see that Additive-1 smoothing is performing slightly better than Good turing.\n",
    "But there are little data points Good Turing is performing significantly better than Additive Smoothing"
   ]
  },
  {
   "cell_type": "code",
   "execution_count": null,
   "id": "db72faa1-4755-4082-9544-d9e7182d6a3c",
   "metadata": {},
   "outputs": [],
   "source": []
  }
 ],
 "metadata": {
  "kernelspec": {
   "display_name": "Python 3 (ipykernel)",
   "language": "python",
   "name": "python3"
  },
  "language_info": {
   "codemirror_mode": {
    "name": "ipython",
    "version": 3
   },
   "file_extension": ".py",
   "mimetype": "text/x-python",
   "name": "python",
   "nbconvert_exporter": "python",
   "pygments_lexer": "ipython3",
   "version": "3.9.16"
  }
 },
 "nbformat": 4,
 "nbformat_minor": 5
}
