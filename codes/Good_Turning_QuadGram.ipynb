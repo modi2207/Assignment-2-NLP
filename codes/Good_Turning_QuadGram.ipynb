{
 "cells": [
  {
   "cell_type": "markdown",
   "id": "3b68f733-5f86-4130-8bfb-9c30e237676b",
   "metadata": {},
   "source": [
    "### Good Turing - QuadGram"
   ]
  },
  {
   "cell_type": "raw",
   "id": "8dd45e76-1e8c-44d2-9543-a2d37e8e8478",
   "metadata": {},
   "source": [
    "Refrence : https://drive.google.com/file/d/1uA15EH926m2wNDfYp66VoOiq63SYLOm8/view {Mayank Singh;CSE, IITGN}"
   ]
  },
  {
   "cell_type": "code",
   "execution_count": 1,
   "id": "cd9edb4f-c650-479f-a8a3-2cbc2c22256f",
   "metadata": {},
   "outputs": [],
   "source": [
    "import numpy as np\n",
    "import pandas as pd\n",
    "import matplotlib.pyplot as plt\n",
    "import sys\n",
    "import re\n",
    "import math"
   ]
  },
  {
   "cell_type": "code",
   "execution_count": 3,
   "id": "4b95fcfa-212a-4ac5-b735-a1094c4168e4",
   "metadata": {},
   "outputs": [
    {
     "data": {
      "text/html": [
       "<div>\n",
       "<style scoped>\n",
       "    .dataframe tbody tr th:only-of-type {\n",
       "        vertical-align: middle;\n",
       "    }\n",
       "\n",
       "    .dataframe tbody tr th {\n",
       "        vertical-align: top;\n",
       "    }\n",
       "\n",
       "    .dataframe thead th {\n",
       "        text-align: right;\n",
       "    }\n",
       "</style>\n",
       "<table border=\"1\" class=\"dataframe\">\n",
       "  <thead>\n",
       "    <tr style=\"text-align: right;\">\n",
       "      <th></th>\n",
       "      <th>Quadgram1</th>\n",
       "      <th>Quadgram2</th>\n",
       "      <th>Quadgram3</th>\n",
       "      <th>Quadgram4</th>\n",
       "      <th>Count</th>\n",
       "      <th>Prob</th>\n",
       "    </tr>\n",
       "  </thead>\n",
       "  <tbody>\n",
       "    <tr>\n",
       "      <th>0</th>\n",
       "      <td>message</td>\n",
       "      <td>compose</td>\n",
       "      <td>to</td>\n",
       "      <td>r</td>\n",
       "      <td>1346</td>\n",
       "      <td>0.684639</td>\n",
       "    </tr>\n",
       "    <tr>\n",
       "      <th>1</th>\n",
       "      <td>if</td>\n",
       "      <td>you</td>\n",
       "      <td>have</td>\n",
       "      <td>any</td>\n",
       "      <td>1230</td>\n",
       "      <td>0.835598</td>\n",
       "    </tr>\n",
       "    <tr>\n",
       "      <th>2</th>\n",
       "      <td>you</td>\n",
       "      <td>have</td>\n",
       "      <td>any</td>\n",
       "      <td>questions</td>\n",
       "      <td>1217</td>\n",
       "      <td>0.931853</td>\n",
       "    </tr>\n",
       "    <tr>\n",
       "      <th>3</th>\n",
       "      <td>https</td>\n",
       "      <td>www</td>\n",
       "      <td>reddit</td>\n",
       "      <td>com</td>\n",
       "      <td>1186</td>\n",
       "      <td>0.982601</td>\n",
       "    </tr>\n",
       "    <tr>\n",
       "      <th>4</th>\n",
       "      <td>please</td>\n",
       "      <td>contact</td>\n",
       "      <td>the</td>\n",
       "      <td>moderators</td>\n",
       "      <td>1175</td>\n",
       "      <td>0.997453</td>\n",
       "    </tr>\n",
       "  </tbody>\n",
       "</table>\n",
       "</div>"
      ],
      "text/plain": [
       "  Quadgram1 Quadgram2 Quadgram3   Quadgram4  Count      Prob\n",
       "0   message   compose        to           r   1346  0.684639\n",
       "1        if       you      have         any   1230  0.835598\n",
       "2       you      have       any   questions   1217  0.931853\n",
       "3     https       www    reddit         com   1186  0.982601\n",
       "4    please   contact       the  moderators   1175  0.997453"
      ]
     },
     "execution_count": 3,
     "metadata": {},
     "output_type": "execute_result"
    }
   ],
   "source": [
    "df = pd.read_csv('Data/Unprocessed_Data/quadgram.csv')\n",
    "df.head()"
   ]
  },
  {
   "cell_type": "code",
   "execution_count": 3,
   "id": "e4f7ea02-e3f1-4d96-b228-2e3fc7cde7a3",
   "metadata": {},
   "outputs": [],
   "source": [
    "## Making Dict of count : words\n",
    "uni_good = {}\n",
    "for i in range(len(df)):\n",
    "    if df.iloc[i][4] in uni_good:\n",
    "        uni_good[df.iloc[i][4]].append((df.iloc[i][0],df.iloc[i][1],df.iloc[i][2],df.iloc[i][3]))\n",
    "    else:\n",
    "        uni_good[df.iloc[i][4]] = [(df.iloc[i][0],df.iloc[i][1],df.iloc[i][2],df.iloc[i][3])]"
   ]
  },
  {
   "cell_type": "code",
   "execution_count": 5,
   "id": "b00e8bdf-4425-406b-a216-47e3e95c6a97",
   "metadata": {},
   "outputs": [],
   "source": [
    "import pickle\n",
    "with open(\"quad_unigood_bkp.pkl\", \"wb\") as pickle_file:\n",
    "    pickle.dump(uni_good, pickle_file)"
   ]
  },
  {
   "cell_type": "code",
   "execution_count": 4,
   "id": "ffbc3bfb-c0f7-45f0-ad99-f7f9cd565058",
   "metadata": {},
   "outputs": [],
   "source": [
    "## Loading Data\n",
    "import pickle\n",
    "with open('Backup/quad_unigood_bkp.pkl','rb') as file:\n",
    "    uni_good = pickle.load(file)"
   ]
  },
  {
   "cell_type": "markdown",
   "id": "a1deef01-cc9f-49be-bf5d-6ecb25bcd252",
   "metadata": {},
   "source": [
    "$$\n",
    "\\begin{align*}\n",
    "\\text{Good Turning Formula : }\n",
    "c^* = \\frac{(c+1)N_{c+1}}{N_c} \n",
    "\\end{align*}\n",
    "$$"
   ]
  },
  {
   "cell_type": "code",
   "execution_count": 23,
   "id": "1124317d-9274-4614-8daf-6bd157c0c52d",
   "metadata": {},
   "outputs": [],
   "source": [
    "## temp{} - c* : list of n-grams\n",
    "temp = {}\n",
    "for i in range(99,0,-1):\n",
    "    ## i+1 == c+1\n",
    "    ## len(uni_good[i+1]) = N_c+1\n",
    "    ## len(uni_good[i]) = N_c\n",
    "    ## c_star = c*\n",
    "    c_star = (i+1)*len(uni_good[i+1])/len(uni_good[i])\n",
    "\n",
    "    ##If count already present just add small value\n",
    "    while c_star in temp:\n",
    "        c_star = c_star+0.001\n",
    "    temp[c_star] = uni_good[i]"
   ]
  },
  {
   "cell_type": "markdown",
   "id": "853c1587-92fe-404c-9222-18a6c5bedbf5",
   "metadata": {},
   "source": [
    "##### Calculating Probabilities"
   ]
  },
  {
   "cell_type": "code",
   "execution_count": 24,
   "id": "b7cdca54-03f1-44bb-8934-8b9c141d47f0",
   "metadata": {
    "scrolled": true
   },
   "outputs": [],
   "source": [
    "new_count = np.sum(np.array(list(temp.keys())))"
   ]
  },
  {
   "cell_type": "code",
   "execution_count": 25,
   "id": "f1c2d697-2ab1-453d-8539-ca528fe2b6a2",
   "metadata": {},
   "outputs": [],
   "source": [
    "good_turining_count = {}\n",
    "\n",
    "for i in temp:\n",
    "    for j in temp[i]:\n",
    "        good_turining_count[j] = i\n",
    "\n",
    "## Adding rest of corpus\n",
    "for i in uni_good:\n",
    "    if i <= 200:\n",
    "        break\n",
    "    for j in uni_good[i]:\n",
    "        good_turining_count[j] = i"
   ]
  },
  {
   "cell_type": "code",
   "execution_count": 26,
   "id": "bb576ce0-3a86-4666-a626-c58008ba2957",
   "metadata": {},
   "outputs": [],
   "source": [
    "## Importing Vocabulary\n",
    "with open('Vocabulary.pkl','rb') as file:\n",
    "    vocabulary = pickle.load(file)"
   ]
  },
  {
   "cell_type": "code",
   "execution_count": 27,
   "id": "95647392-5e49-425b-8991-fe80f5c57d9f",
   "metadata": {},
   "outputs": [
    {
     "name": "stdout",
     "output_type": "stream",
     "text": [
      "2.3798701061084643e-14\n"
     ]
    }
   ],
   "source": [
    "## 0th Count\n",
    "zero_count = len(uni_good[1])/((len(vocabulary)**4)-len(df))\n",
    "print(zero_count)"
   ]
  },
  {
   "cell_type": "code",
   "execution_count": 28,
   "id": "f6190ec2-bb91-4e3f-b05e-0730b0c01a89",
   "metadata": {},
   "outputs": [
    {
     "name": "stdout",
     "output_type": "stream",
     "text": [
      "1114284.999999993\n"
     ]
    }
   ],
   "source": [
    "### Getting sum of all the counts\n",
    "sum = np.sum(np.array(list(good_turining_count.values()))) + zero_count\n",
    "print(sum)"
   ]
  },
  {
   "cell_type": "code",
   "execution_count": 29,
   "id": "d8e1fdea-9075-404a-95c0-3f71cf411395",
   "metadata": {},
   "outputs": [],
   "source": [
    "#### Converting good_turining_count dict from count to probability\n",
    "for i in good_turining_count:\n",
    "    good_turining_count[i] = good_turining_count[i]/sum\n",
    "\n",
    "good_turining_count[0] = zero_count/sum"
   ]
  },
  {
   "cell_type": "code",
   "execution_count": 30,
   "id": "6864e0a6-2f55-414b-9eed-ccc26238bbb9",
   "metadata": {},
   "outputs": [
    {
     "name": "stdout",
     "output_type": "stream",
     "text": [
      "Sum of Prob = 1.0000000000000115\n"
     ]
    }
   ],
   "source": [
    "print(\"Sum of Prob = \" + str(np.sum(np.array(list(good_turining_count.values())))))"
   ]
  },
  {
   "cell_type": "code",
   "execution_count": 31,
   "id": "c6586fda-9739-483d-b87c-441e83fc01c9",
   "metadata": {},
   "outputs": [],
   "source": [
    "good_turining_count[-1] = len(df)"
   ]
  },
  {
   "cell_type": "code",
   "execution_count": 32,
   "id": "0178062c-b1a4-4c26-b45d-e7a26d80c788",
   "metadata": {},
   "outputs": [],
   "source": [
    "with open(\"quadgram_prob.pkl\", \"wb\") as pickle_file:\n",
    "    pickle.dump(good_turining_count, pickle_file)"
   ]
  },
  {
   "cell_type": "code",
   "execution_count": 2,
   "id": "7c183a77-348a-4352-9277-235e85af1082",
   "metadata": {},
   "outputs": [],
   "source": [
    "## Loading Data\n",
    "import pickle\n",
    "with open('quadgram_prob.pkl','rb') as file:\n",
    "    good_turining_count = pickle.load(file)"
   ]
  },
  {
   "cell_type": "markdown",
   "id": "97a8812c-e754-4670-8282-34399371db6e",
   "metadata": {},
   "source": [
    "### Testing"
   ]
  },
  {
   "cell_type": "code",
   "execution_count": 5,
   "id": "edd237a7-cc23-4a92-88ee-6db57023a59c",
   "metadata": {},
   "outputs": [
    {
     "data": {
      "text/html": [
       "<div>\n",
       "<style scoped>\n",
       "    .dataframe tbody tr th:only-of-type {\n",
       "        vertical-align: middle;\n",
       "    }\n",
       "\n",
       "    .dataframe tbody tr th {\n",
       "        vertical-align: top;\n",
       "    }\n",
       "\n",
       "    .dataframe thead th {\n",
       "        text-align: right;\n",
       "    }\n",
       "</style>\n",
       "<table border=\"1\" class=\"dataframe\">\n",
       "  <thead>\n",
       "    <tr style=\"text-align: right;\">\n",
       "      <th></th>\n",
       "      <th>Text</th>\n",
       "    </tr>\n",
       "  </thead>\n",
       "  <tbody>\n",
       "    <tr>\n",
       "      <th>0</th>\n",
       "      <td>[START], woh, banda, kahan, hai, jo, kal, keh,...</td>\n",
       "    </tr>\n",
       "    <tr>\n",
       "      <th>1</th>\n",
       "      <td>[START], the, junta, will, end, up, with, a, b...</td>\n",
       "    </tr>\n",
       "    <tr>\n",
       "      <th>2</th>\n",
       "      <td>[START], that, doesn't, disprove, anything, i,...</td>\n",
       "    </tr>\n",
       "    <tr>\n",
       "      <th>3</th>\n",
       "      <td>[START], international, trade, relationships, ...</td>\n",
       "    </tr>\n",
       "    <tr>\n",
       "      <th>4</th>\n",
       "      <td>[START], hamare, pet, ki, bas, ki, bat, nhi, r...</td>\n",
       "    </tr>\n",
       "  </tbody>\n",
       "</table>\n",
       "</div>"
      ],
      "text/plain": [
       "                                                Text\n",
       "0  [START], woh, banda, kahan, hai, jo, kal, keh,...\n",
       "1  [START], the, junta, will, end, up, with, a, b...\n",
       "2  [START], that, doesn't, disprove, anything, i,...\n",
       "3  [START], international, trade, relationships, ...\n",
       "4  [START], hamare, pet, ki, bas, ki, bat, nhi, r..."
      ]
     },
     "execution_count": 5,
     "metadata": {},
     "output_type": "execute_result"
    }
   ],
   "source": [
    "df = pd.read_csv('Data/testing_data.txt',\n",
    "                 delimiter='\\t',header=None, names=['Text'])\n",
    "df.head()"
   ]
  },
  {
   "cell_type": "markdown",
   "id": "a4631918-961f-4d4c-807b-01b472a497fa",
   "metadata": {},
   "source": [
    "$$ log[PP(Perplexity)] = -\\frac{1}{N} [log(P(w_2|w_1)) + ...  log(P(w_n|w_{n-1}))] $$"
   ]
  },
  {
   "cell_type": "code",
   "execution_count": 6,
   "id": "254df06a-3eb2-4748-951e-16abe0911608",
   "metadata": {},
   "outputs": [],
   "source": [
    "## Importing Unigram\n",
    "with open('unigram_prob.pkl','rb') as file:\n",
    "    unigram_probability = pickle.load(file)\n",
    "\n",
    "## Importing Bigram\n",
    "with open('bigram_prob.pkl','rb') as file:\n",
    "    bigram_probability = pickle.load(file)\n",
    "\n",
    "## Importing Trigram\n",
    "with open('trigram_count.pkl','rb') as file:\n",
    "    trigram_probability = pickle.load(file)"
   ]
  },
  {
   "cell_type": "code",
   "execution_count": 8,
   "id": "59c93ca7-e1ba-44a8-b046-ec886495dcb5",
   "metadata": {
    "scrolled": true
   },
   "outputs": [],
   "source": [
    "arr_pp = []\n",
    "log_sum = 0\n",
    "for j in range(len(df)):\n",
    "    string1 = df.iloc[j][0].split(\", \")\n",
    "    ## Unigram probability / First word\n",
    "    log_sum += math.log(unigram_probability[string1[0]])\n",
    "    ## Bigram probability\n",
    "    if (string1[0],string1[1]) in bigram_probability:\n",
    "        log_sum += math.log(bigram_probability[(string1[0],string1[1])])\n",
    "    else:\n",
    "        log_sum += math.log(bigram_probability[0])\n",
    "    ## Trigram probability\n",
    "    if (string1[0],string1[1],string1[2]) in trigram_probability:\n",
    "        log_sum += math.log(trigram_probability[(string1[0],string1[1],string1[2])])\n",
    "    else:\n",
    "        log_sum += math.log(trigram_probability[0])    \n",
    "        \n",
    "    for i in range(3,len(string1)):\n",
    "        if (string1[i-3],string1[i-2],string1[i-1],string1[i]) in good_turining_count:\n",
    "            log_sum += math.log(good_turining_count[(string1[i-3],string1[i-2],string1[i-1],string1[i])])\n",
    "        else:\n",
    "            log_sum += math.log(good_turining_count[0])\n",
    "    log_pp = -log_sum/len(string1)\n",
    "    arr_pp.append(log_pp)"
   ]
  },
  {
   "cell_type": "code",
   "execution_count": 9,
   "id": "5131abb6-e2ab-4b65-b785-f336a8fe8304",
   "metadata": {},
   "outputs": [
    {
     "data": {
      "image/png": "[encoded data removed]",
      "text/plain": [
       "<Figure size 640x480 with 1 Axes>"
      ]
     },
     "metadata": {},
     "output_type": "display_data"
    }
   ],
   "source": [
    "### PLoting the graph\n",
    "x = list(range(1,len(df)+1))\n",
    "plt.scatter(x,arr_pp,s=1)\n",
    "plt.yscale('log')\n",
    "plt.xscale('log')\n",
    "plt.xlabel('Sentence Number')\n",
    "plt.ylabel('Log Perplexity')\n",
    "plt.show()"
   ]
  },
  {
   "cell_type": "code",
   "execution_count": 11,
   "id": "1a8af40e-a067-4151-97bf-6bfbfe7c04f9",
   "metadata": {},
   "outputs": [
    {
     "data": {
      "text/html": [
       "<div>\n",
       "<style scoped>\n",
       "    .dataframe tbody tr th:only-of-type {\n",
       "        vertical-align: middle;\n",
       "    }\n",
       "\n",
       "    .dataframe tbody tr th {\n",
       "        vertical-align: top;\n",
       "    }\n",
       "\n",
       "    .dataframe thead th {\n",
       "        text-align: right;\n",
       "    }\n",
       "</style>\n",
       "<table border=\"1\" class=\"dataframe\">\n",
       "  <thead>\n",
       "    <tr style=\"text-align: right;\">\n",
       "      <th></th>\n",
       "      <th>Unnamed: 0</th>\n",
       "      <th>Data</th>\n",
       "      <th>Perplexity</th>\n",
       "    </tr>\n",
       "  </thead>\n",
       "  <tbody>\n",
       "    <tr>\n",
       "      <th>0</th>\n",
       "      <td>0</td>\n",
       "      <td>[START], woh, banda, kahan, hai, jo, kal, keh,...</td>\n",
       "      <td>55179.580133</td>\n",
       "    </tr>\n",
       "    <tr>\n",
       "      <th>1</th>\n",
       "      <td>1</td>\n",
       "      <td>[START], the, junta, will, end, up, with, a, b...</td>\n",
       "      <td>20810.820268</td>\n",
       "    </tr>\n",
       "    <tr>\n",
       "      <th>2</th>\n",
       "      <td>2</td>\n",
       "      <td>[START], that, doesn't, disprove, anything, i,...</td>\n",
       "      <td>7114.764122</td>\n",
       "    </tr>\n",
       "    <tr>\n",
       "      <th>3</th>\n",
       "      <td>3</td>\n",
       "      <td>[START], international, trade, relationships, ...</td>\n",
       "      <td>10987.421286</td>\n",
       "    </tr>\n",
       "    <tr>\n",
       "      <th>4</th>\n",
       "      <td>4</td>\n",
       "      <td>[START], hamare, pet, ki, bas, ki, bat, nhi, r...</td>\n",
       "      <td>25429.783375</td>\n",
       "    </tr>\n",
       "  </tbody>\n",
       "</table>\n",
       "</div>"
      ],
      "text/plain": [
       "   Unnamed: 0                                               Data    Perplexity\n",
       "0           0  [START], woh, banda, kahan, hai, jo, kal, keh,...  55179.580133\n",
       "1           1  [START], the, junta, will, end, up, with, a, b...  20810.820268\n",
       "2           2  [START], that, doesn't, disprove, anything, i,...   7114.764122\n",
       "3           3  [START], international, trade, relationships, ...  10987.421286\n",
       "4           4  [START], hamare, pet, ki, bas, ki, bat, nhi, r...  25429.783375"
      ]
     },
     "execution_count": 11,
     "metadata": {},
     "output_type": "execute_result"
    }
   ],
   "source": [
    "df = pd.read_csv('Data/Additive/quadgram_Perplexity_with_smoothing.csv')\n",
    "df.head()"
   ]
  },
  {
   "cell_type": "code",
   "execution_count": 12,
   "id": "542c17e8-47f4-473b-b8fe-f4c1409aac14",
   "metadata": {},
   "outputs": [],
   "source": [
    "y_additive = np.array(list(df['Perplexity'][:-1]))"
   ]
  },
  {
   "cell_type": "code",
   "execution_count": 13,
   "id": "bf2a0977-9c7d-4a44-a438-66d1b32d82b0",
   "metadata": {},
   "outputs": [
    {
     "data": {
      "image/png": "[encoded data removed]",
      "text/plain": [
       "<Figure size 640x480 with 1 Axes>"
      ]
     },
     "metadata": {},
     "output_type": "display_data"
    }
   ],
   "source": [
    "### PLoting the graph\n",
    "x = list(range(1,len(df)))\n",
    "plt.scatter(x,arr_pp,s=1,label='Good Turing')\n",
    "plt.scatter(x,y_additive,s=1,label = 'Additive')\n",
    "plt.yscale('log')\n",
    "plt.xscale('log')\n",
    "plt.xlabel('Sentence Number')\n",
    "plt.ylabel('Log Perplexity')\n",
    "plt.legend()\n",
    "plt.show()"
   ]
  },
  {
   "cell_type": "markdown",
   "id": "ba2430dc-07ee-41bf-a526-9d2f49dc1c5e",
   "metadata": {},
   "source": [
    "As per the above image we can see that Additive-1 smoothing is performingmuch better than Good turing.\n",
    "\n",
    "But there are little data points Good Turing is performing better than Additive Smoothing.\n",
    "\n",
    "In this case Additive smoothing is much prefered."
   ]
  },
  {
   "cell_type": "code",
   "execution_count": null,
   "id": "5e824f26-1a34-4348-8270-20eb2661c490",
   "metadata": {},
   "outputs": [],
   "source": []
  }
 ],
 "metadata": {
  "kernelspec": {
   "display_name": "Python 3 (ipykernel)",
   "language": "python",
   "name": "python3"
  },
  "language_info": {
   "codemirror_mode": {
    "name": "ipython",
    "version": 3
   },
   "file_extension": ".py",
   "mimetype": "text/x-python",
   "name": "python",
   "nbconvert_exporter": "python",
   "pygments_lexer": "ipython3",
   "version": "3.9.16"
  }
 },
 "nbformat": 4,
 "nbformat_minor": 5
}
